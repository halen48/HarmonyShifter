{
  "cells": [
    {
      "cell_type": "markdown",
      "metadata": {
        "id": "view-in-github",
        "colab_type": "text"
      },
      "source": [
        "<a href=\"https://colab.research.google.com/github/halen48/HarmonyShifter/blob/main/Harmony_Shifter.ipynb\" target=\"_parent\"><img src=\"https://colab.research.google.com/assets/colab-badge.svg\" alt=\"Open In Colab\"/></a>"
      ]
    },
    {
      "cell_type": "markdown",
      "metadata": {
        "id": "2SKDI0m99nWB"
      },
      "source": [
        "<h1>Harmony Shifter in Python</h1>\n",
        "Author: <a href=\"https://github.com/halen48\">Guilherme Novaes</a>\n",
        "\n",
        "---\n",
        "Refereces: \n",
        "*   <a href=\"https://hellomusictheory.com/learn/negative-harmony/\">What Is Negative Harmony?</a>\n",
        "*   <a href=\"https://en.wikipedia.org/wiki/Riemannian_theory\">Riemannian theory</a>\n"
      ]
    },
    {
      "cell_type": "code",
      "execution_count": 333,
      "metadata": {
        "colab": {
          "base_uri": "https://localhost:8080/"
        },
        "id": "kR8EsCZnGMK0",
        "outputId": "1a3d4cc8-db70-4d71-c506-e7e372c34391"
      },
      "outputs": [
        {
          "output_type": "stream",
          "name": "stdout",
          "text": [
            "Requirement already satisfied: mido in /usr/local/lib/python3.7/dist-packages (1.2.10)\n"
          ]
        }
      ],
      "source": [
        "from google.colab import files\n",
        "!pip install mido\n",
        "from mido import MidiFile\n",
        "import os"
      ]
    },
    {
      "cell_type": "code",
      "execution_count": 334,
      "metadata": {
        "cellView": "form",
        "id": "7OJy8g-4aygE"
      },
      "outputs": [],
      "source": [
        "ZIP_NAME = \"shifted_harmonies.zip\" #@param\n",
        "#Clean the work dir\n",
        "for f in os.listdir():\n",
        "  if(os.path.isdir(f)):\n",
        "    continue\n",
        "  os.remove(f)"
      ]
    },
    {
      "cell_type": "markdown",
      "metadata": {
        "id": "B6S2not5_gn_"
      },
      "source": [
        "#1) Implementation"
      ]
    },
    {
      "cell_type": "markdown",
      "metadata": {
        "id": "0wnkpH2sTHGW"
      },
      "source": [
        "##Constants/Formulas"
      ]
    },
    {
      "cell_type": "code",
      "execution_count": 335,
      "metadata": {
        "id": "DzQMoYvA4rqQ"
      },
      "outputs": [],
      "source": [
        "SHARP = '♯'\n",
        "FLAT = '♭'"
      ]
    },
    {
      "cell_type": "markdown",
      "metadata": {
        "id": "-Ph0tuNifopp"
      },
      "source": [
        "<a href=\"https://www.inspiredacoustics.com/en/MIDI_note_numbers_and_center_frequencies\">MIDI Notes</a>"
      ]
    },
    {
      "cell_type": "code",
      "execution_count": 336,
      "metadata": {
        "id": "_Mws9RnlVMql"
      },
      "outputs": [],
      "source": [
        "def mid2note(v):\n",
        "  return ((v%12) ,v//12 - 1)"
      ]
    },
    {
      "cell_type": "markdown",
      "metadata": {
        "id": "Sh9_TDC__uwP"
      },
      "source": [
        "Channel 10 is always percurssion.<br>\n",
        "In other words, the 10th channel is the percussion.<br>\n",
        "Since first channel by mido is the 0 channel, the 10th channel is the number 9"
      ]
    },
    {
      "cell_type": "code",
      "execution_count": 337,
      "metadata": {
        "id": "k_Swjha7AKgH"
      },
      "outputs": [],
      "source": [
        "PERCUSSION_CHANNEL = 10"
      ]
    },
    {
      "cell_type": "code",
      "execution_count": 338,
      "metadata": {
        "id": "cc9vP3zLP6uA"
      },
      "outputs": [],
      "source": [
        "def isPercussion(tracks):\n",
        "  for m in tracks:\n",
        "    dict_ = m.dict()\n",
        "    if('channel' in dict_.keys()):\n",
        "      return (dict_['channel'] == PERCUSSION_CHANNEL - 1)\n",
        "  \n",
        "  return False"
      ]
    },
    {
      "cell_type": "markdown",
      "metadata": {
        "id": "MqJZiSp8kPVM"
      },
      "source": [
        "Statistics to get the harmonic field of the music"
      ]
    },
    {
      "cell_type": "code",
      "execution_count": 339,
      "metadata": {
        "id": "9mHwAR9sgzRt"
      },
      "outputs": [],
      "source": [
        "def track_notes_statistics(track):\n",
        "  ret = {}\n",
        "  if(isPercussion(track)):\n",
        "    return ret\n",
        "  for p in track:\n",
        "    try:\n",
        "      note = mid2note(p.note)[0]\n",
        "      if(not note in ret):\n",
        "        ret[note] = p.time\n",
        "      else:\n",
        "        ret[note] += p.time\n",
        "    except AttributeError:\n",
        "      #Ignore the objects that isn't note messages in the midi\n",
        "      pass\n",
        "  \n",
        "  if(not len(ret)):\n",
        "    return []\n",
        "  base = max([(ret[key]) for key in ret])\n",
        "  #Sorting descending frequency (most first)\n",
        "  return sorted([(key, ret[key]/base) for key in ret], key=lambda a : -a[1])"
      ]
    },
    {
      "cell_type": "markdown",
      "metadata": {
        "id": "jO_lhlNk_kvA"
      },
      "source": [
        "##Chromatic Scale"
      ]
    },
    {
      "cell_type": "code",
      "execution_count": 340,
      "metadata": {
        "id": "3KVOTwkzzPfO"
      },
      "outputs": [],
      "source": [
        "class ChromaticScale():\n",
        "  def __init__(self, default_accidental):\n",
        "    \n",
        "    self.__ACCIDENTAL = ['sharp', 'flat']\n",
        "    self.__default_accidental = default_accidental\n",
        "    self.__default_accidental_index = self.__ACCIDENTAL.index(default_accidental)\n",
        "    \n",
        "    self._notes = {'sharp' : [], 'flat' : [], 'note2idx' : {}, 'idx2note' : {}}\n",
        "    for i in range(ord('A'),ord('G')+1):\n",
        "      self._notes['sharp'].append(chr(i))\n",
        "      if(i != ord('B') and i!= ord('E')):\n",
        "        self._notes['sharp'].append(chr(i)+SHARP)\n",
        "    \n",
        "    self._MAX_NOTES = len(self._notes['sharp'])\n",
        "\n",
        "    self._notes['flat'] = [chr( ord('A') + (ord(v[0])- ord('A')+1)%7)+FLAT if len(v) > 1 else v for v in self._notes['sharp']]\n",
        "    \n",
        "    self.rotate('C',False)\n",
        "  \n",
        "    for i,note in enumerate(self._notes[default_accidental]):\n",
        "      self._notes['note2idx'][note] = i\n",
        "      self._notes['idx2note'][i] = note\n",
        "\n",
        "    self.__circle5ths()\n",
        "\n",
        "  def __circle5ths(self):\n",
        "    self._circle = {'sharp' : [self._notes['sharp'][0]], 'flat' : [self._notes['flat'][0]], 'discrete' : [0], 'map' : {} }\n",
        "    index = 7\n",
        "    while index != 0:\n",
        "      self._circle['sharp'].append(self._notes['sharp'][index])\n",
        "      self._circle['flat'].append(self._notes['flat'][index])\n",
        "      self._circle['discrete'].append(index)\n",
        "      index = (index+7)%self._MAX_NOTES\n",
        "    \n",
        "    middle_slice = j = self._MAX_NOTES//2\n",
        "    \n",
        "    for i in range(1,middle_slice+1):\n",
        "      note1, note2 = self.notes()[self._circle['discrete'][i]], self.notes()[self._circle['discrete'][j-middle_slice]]\n",
        "      note1 = self._notes['note2idx'][note1] \n",
        "      note2 = self._notes['note2idx'][note2]\n",
        "      \n",
        "      self._circle['map'][note1] = note2\n",
        "      self._circle['map'][note2] = note1\n",
        "      j -= 1\n",
        "\n",
        "  def rotate(self,start_note, do_circle = True):\n",
        "    start_note = start_note.replace('#','♯').replace('b','♭')\n",
        "    if(start_note in self._notes['sharp']):\n",
        "      notes = self._notes['sharp']\n",
        "    else:\n",
        "      notes = self._notes['flat']\n",
        "    while notes[0] != start_note:\n",
        "      self._notes['sharp'].append(self._notes['sharp'].pop(0))\n",
        "      self._notes['flat'].append(self._notes['flat'].pop(0))\n",
        "    \n",
        "    if(do_circle):\n",
        "      self.__circle5ths()\n",
        "\n",
        "  def print_circle(self, pettry = False):\n",
        "    major = self._circle[self.__default_accidental].copy()\n",
        "    self.rotate('A')\n",
        "    minor = self._circle[self.__default_accidental].copy()\n",
        "    self.rotate('C')\n",
        "    ret = {'major':major, 'minor' : minor}\n",
        "    if(pettry):\n",
        "      return '\\n'.join(['%s: %s'%(key,ret[key]) for key in ret])\n",
        "    return ret\n",
        "  \n",
        "  def notes(self):\n",
        "    return self._notes[self.__default_accidental]    \n",
        "  \n",
        "  def circle(self,key):\n",
        "    return self._circle[key]\n",
        "\n",
        "  def negativeMap(self):\n",
        "    return '\\n'.join([\"%2s → %2s\"%(self._notes['idx2note'][key],self._notes['idx2note'][self._circle['map'][key]]) for key in self._circle['discrete']])\n",
        "\n",
        "  def accidental(self):\n",
        "    return self.__default_accidental\n",
        "    "
      ]
    },
    {
      "cell_type": "markdown",
      "metadata": {
        "id": "euKHsNMmq32g"
      },
      "source": [
        "##N-tonic Scale\n",
        "Intervals: \n",
        "*  [W]hole = 2\n",
        "*  [H]alf-step = 1"
      ]
    },
    {
      "cell_type": "code",
      "execution_count": 341,
      "metadata": {
        "id": "2ws5cot_q8Oo"
      },
      "outputs": [],
      "source": [
        "class NTonicScale(ChromaticScale):\n",
        "    def __init__(self, intervals, default_accidental = 'sharp'):\n",
        "      super().__init__(default_accidental)\n",
        "      intervals = [int(v) for v in intervals.replace('–','-').split('-')]\n",
        "      self.indexes = [0]\n",
        "      for interval in intervals:\n",
        "        if(self.indexes[-1]+interval >= len(self.notes())):\n",
        "          break\n",
        "        self.indexes.append(self.indexes[-1]+interval)\n",
        "      self.scale = {'notes':None, 'discrete' : None}\n",
        "      self.scale_notes('C')\n",
        "      \n",
        "    def scale_notes(self, root):\n",
        "      self.rotate(root)\n",
        "      self.scale['notes'] = [self.notes()[v] for v in self.indexes]\n",
        "      self.scale['discrete'] = []\n",
        "      self.scale['discrete'] = [self._notes['note2idx'][v] for v in self.scale['notes']]\n",
        "\n",
        "      return self\n",
        "    \n",
        "    def fit(self, notes_freqs : list, root : int) -> bool:\n",
        "      self.scale_notes(self._notes['idx2note'][root])\n",
        "      notes = [note[0] for note in notes_freqs]\n",
        "      #Check if all indexes are inside of list [notes]\n",
        "      probability = 0\n",
        "      for index in self.scale['discrete']:\n",
        "        try:\n",
        "          idx = notes.index(index)\n",
        "          probability += notes_freqs[idx][1]\n",
        "        except ValueError:\n",
        "          #Just ignore\n",
        "          pass\n",
        "      \n",
        "      probability /= len(self.scale['discrete'])\n",
        "\n",
        "      return probability\n",
        "\n",
        "    def __str__(self):\n",
        "      return ' '.join([v for v in self.scale['notes']])\n",
        "        "
      ]
    },
    {
      "cell_type": "markdown",
      "metadata": {
        "id": "P5f2kL-m2zO6"
      },
      "source": [
        "##Circle of fifiths\n"
      ]
    },
    {
      "cell_type": "code",
      "execution_count": 342,
      "metadata": {
        "cellView": "form",
        "colab": {
          "base_uri": "https://localhost:8080/"
        },
        "id": "tQnligLd0fHU",
        "outputId": "c70413be-0a07-47a5-e89b-417896a23b2f"
      },
      "outputs": [
        {
          "output_type": "stream",
          "name": "stdout",
          "text": [
            "['C', 'C♯', 'D', 'D♯', 'E', 'F', 'F♯', 'G', 'G♯', 'A', 'A♯', 'B']\n",
            "major: ['C', 'G', 'D', 'A', 'E', 'B', 'F♯', 'C♯', 'G♯', 'D♯', 'A♯', 'F']\n",
            "minor: ['A', 'E', 'B', 'F♯', 'C♯', 'G♯', 'D♯', 'A♯', 'F', 'C', 'G', 'D']\n",
            " C →  G\n",
            " G →  C\n",
            " D →  F\n",
            " A → A♯\n",
            " E → D♯\n",
            " B → G♯\n",
            "F♯ → C♯\n",
            "C♯ → F♯\n",
            "G♯ →  B\n",
            "D♯ →  E\n",
            "A♯ →  A\n",
            " F →  D\n"
          ]
        }
      ],
      "source": [
        "#@title <img src=\"https://lh5.googleusercontent.com/jq0aEjROUrEuCw6aJS84iCzEd5jm707BRXFckMJ22VXm30HOHcP6vyKMEqPH4dVADi7FvOUu7a23C9PbH4aafuSbrdYRwlVCEAhscIGwbzxtSNFU5TDSairq_NlOvcH_H3bQSbXF\" width=\"300\"/>\n",
        "chromatic = ChromaticScale('sharp')\n",
        "print(chromatic.notes())\n",
        "print(chromatic.print_circle(True))\n",
        "print(chromatic.negativeMap())"
      ]
    },
    {
      "cell_type": "markdown",
      "metadata": {
        "id": "lvgIfMxtw-2_"
      },
      "source": [
        "##Scales"
      ]
    },
    {
      "cell_type": "code",
      "execution_count": 343,
      "metadata": {
        "id": "tC5-KWtzr-33"
      },
      "outputs": [],
      "source": [
        "scales = {\n",
        "    'Diatonic': {\n",
        "      'Ionian': '2–2–1–2–2–2–1',\n",
        "      'Dorian': '2–1–2–2–2–1–2',\n",
        "      'Phrygian': '1–2–2–2–1–2–2',\n",
        "      'Lydian': '2–2–2–1–2–2–1',\n",
        "      'Mixolydian': '2–2–1–2–2–1–2',\n",
        "      'Aeolian': '2–1–2–2–1–2–2',\n",
        "      'Locrian': '1–2–2–1–2–2–2',\n",
        "    },\n",
        "    'Triads': {\n",
        "      'Major Triad' : '4-3-5',\n",
        "      'Minor Triad' : '3-4-5',\n",
        "    }\n",
        "}"
      ]
    },
    {
      "cell_type": "code",
      "execution_count": 344,
      "metadata": {
        "id": "70AWadM_3biY"
      },
      "outputs": [],
      "source": [
        "def scales_fit(notes : list, group : str, key : int) -> list:\n",
        "  return sorted([(name,scales[group][name].fit(notes, key)) for name in scales[group]],key= lambda a : -a[1])"
      ]
    },
    {
      "cell_type": "code",
      "execution_count": 345,
      "metadata": {
        "cellView": "form",
        "colab": {
          "base_uri": "https://localhost:8080/"
        },
        "id": "jZDLinQnwlsw",
        "outputId": "e92372c4-ed1f-4c22-9a40-fb6c09c7277e"
      },
      "outputs": [
        {
          "output_type": "stream",
          "name": "stdout",
          "text": [
            "====== Diatonic ======\n",
            "Ionian: C D E F G A B\n",
            "Dorian: C D D♯ F G A A♯\n",
            "Phrygian: C C♯ D♯ F G G♯ A♯\n",
            "Lydian: C D E F♯ G A B\n",
            "Mixolydian: C D E F G A A♯\n",
            "Aeolian: C D D♯ F G G♯ A♯\n",
            "Locrian: C C♯ D♯ F F♯ G♯ A♯\n",
            "====== Triads ======\n",
            "Major Triad: C E G\n",
            "Minor Triad: C D♯ G\n"
          ]
        }
      ],
      "source": [
        "#@title <img src=\"https://upload.wikimedia.org/wikipedia/commons/thumb/3/31/Modal_Interval_Sequence.png/1024px-Modal_Interval_Sequence.png\" width=\"600\">\n",
        "for group in scales:\n",
        "  print(\"====== %s ======\"%group)\n",
        "  for name in scales[group]:\n",
        "    scales[group][name] = NTonicScale(scales[group][name], chromatic.accidental())\n",
        "    print(\"%s: %s\"%(name, scales[group][name]))"
      ]
    },
    {
      "cell_type": "markdown",
      "metadata": {
        "id": "h3Hne78THTnR"
      },
      "source": [
        "##Implement your shift-harmonies formulas here"
      ]
    },
    {
      "cell_type": "markdown",
      "metadata": {
        "id": "BjQHUbWhIGrq"
      },
      "source": [
        "###All methods with the sufix below will be automatically included to perform the operation\n",
        "```\n",
        "music_info = {'tracks' : [], 'root' : None, 'scale' : None}\n",
        "```"
      ]
    },
    {
      "cell_type": "code",
      "execution_count": 346,
      "metadata": {
        "id": "m9S-HdL_IFPA"
      },
      "outputs": [],
      "source": [
        "SUFIX = 'Harmony'"
      ]
    },
    {
      "cell_type": "code",
      "execution_count": 347,
      "metadata": {
        "id": "z8qRx-WjFtAx"
      },
      "outputs": [],
      "source": [
        "class Harmonies(): \n",
        "  operations = {}\n",
        "  dynamic_functions = {}\n",
        "  def fifithHarmony(note : int, music_info : dict, key : str) -> int:\n",
        "    v = mid2note(note)\n",
        "    return chromatic.circle('discrete')[v[0]-1] + (12*(1+v[1]))\n",
        "\n",
        "  def negativeHarmony(note, music_info, key):\n",
        "    v = mid2note(note)\n",
        "    return chromatic.circle('map')[v[0]] + (12*(1+v[1]))"
      ]
    },
    {
      "cell_type": "markdown",
      "metadata": {
        "id": "VNyy8HE8HHw8"
      },
      "source": [
        "####Scale shift functions"
      ]
    },
    {
      "cell_type": "code",
      "execution_count": 348,
      "metadata": {
        "id": "b3JPzoM1HL1T"
      },
      "outputs": [],
      "source": [
        "def scale_shift(note, music_info, group, target_scale):\n",
        "  target_scale = target_scale.replace(\"_%s\",'')\n",
        "  if(music_info['scale'] == target_scale):\n",
        "    return note\n",
        "  \n",
        "  v = mid2note(note)\n",
        "\n",
        "  #idenfity the note index on the scale\n",
        "  root, old_scale = scales[group][music_info['scale']].scale['notes'][0], scales[group][music_info['scale']]\n",
        "  new_scale = scales[group][target_scale]\n",
        "\n",
        "  old_notes = old_scale.scale['discrete']\n",
        "  new_notes = new_scale.scale_notes(root).scale['discrete']\n",
        "  try:\n",
        "    idx = old_notes.index(v[0])\n",
        "  except ValueError:\n",
        "    #ignore and return the same note\n",
        "    return note\n",
        "  \n",
        "  #idenfity the index of the note of the shifted scale\n",
        "  new_note = new_notes[idx]\n",
        "  #print(chromatic.notes()[v[0]], music_info['scale'], \"->\", target_scale,chromatic.notes()[new_note])\n",
        "\n",
        "  return new_note + (12*(1+v[1]))"
      ]
    },
    {
      "cell_type": "code",
      "execution_count": 349,
      "metadata": {
        "id": "HXCEtPFuHHgU"
      },
      "outputs": [],
      "source": [
        "for scale in scales['Diatonic']:\n",
        "  Harmonies.dynamic_functions[scale+SUFIX] = lambda a,b, key : scale_shift(a,b, 'Diatonic', key)"
      ]
    },
    {
      "cell_type": "code",
      "execution_count": 350,
      "metadata": {
        "id": "QUGCuRefVx-z"
      },
      "outputs": [],
      "source": [
        "for key in Harmonies.__dict__:\n",
        "  if(SUFIX in key):\n",
        "    Harmonies.operations[key.replace(SUFIX,'_%s')] = Harmonies.__dict__[key]"
      ]
    },
    {
      "cell_type": "code",
      "execution_count": 351,
      "metadata": {
        "id": "YevvBJwjKeus"
      },
      "outputs": [],
      "source": [
        "for key in Harmonies.dynamic_functions:\n",
        "    if(SUFIX in key):\n",
        "      Harmonies.operations[key.replace(SUFIX,'_%s')] = Harmonies.dynamic_functions[key]"
      ]
    },
    {
      "cell_type": "markdown",
      "metadata": {
        "id": "cD3KUz_XI17_"
      },
      "source": [
        "#2) Upload a MIDI"
      ]
    },
    {
      "cell_type": "code",
      "execution_count": 352,
      "metadata": {
        "cellView": "form",
        "colab": {
          "base_uri": "https://localhost:8080/",
          "height": 75,
          "resources": {
            "http://localhost:8080/nbextensions/google.colab/files.js": {
              "data": "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",
              "headers": [
                [
                  "content-type",
                  "application/javascript"
                ]
              ],
              "ok": true,
              "status": 200,
              "status_text": "OK"
            }
          }
        },
        "id": "sP3dd-T6I1hT",
        "outputId": "97bdbde2-1871-4d11-cfc0-36b5407b792a"
      },
      "outputs": [
        {
          "output_type": "display_data",
          "data": {
            "text/html": [
              "\n",
              "     <input type=\"file\" id=\"files-d3202605-6f45-422a-941b-6b9362ecce9a\" name=\"files[]\" multiple disabled\n",
              "        style=\"border:none\" />\n",
              "     <output id=\"result-d3202605-6f45-422a-941b-6b9362ecce9a\">\n",
              "      Upload widget is only available when the cell has been executed in the\n",
              "      current browser session. Please rerun this cell to enable.\n",
              "      </output>\n",
              "      <script src=\"/nbextensions/google.colab/files.js\"></script> "
            ],
            "text/plain": [
              "<IPython.core.display.HTML object>"
            ]
          },
          "metadata": {}
        },
        {
          "output_type": "stream",
          "name": "stdout",
          "text": [
            "Saving Van_Halen_-_Jump.mid to Van_Halen_-_Jump.mid\n"
          ]
        }
      ],
      "source": [
        "#@title Optional (You can upload multiple)\n",
        "uploaded = files.upload() "
      ]
    },
    {
      "cell_type": "markdown",
      "metadata": {
        "id": "8CC6-VP6ExvX"
      },
      "source": [
        "##Do the mathmagics"
      ]
    },
    {
      "cell_type": "code",
      "execution_count": 353,
      "metadata": {
        "id": "Pabz0ciSYwP0"
      },
      "outputs": [],
      "source": [
        "FOLDER = \"generated/\""
      ]
    },
    {
      "cell_type": "code",
      "execution_count": 354,
      "metadata": {
        "id": "s1qQqnGGZSm0"
      },
      "outputs": [],
      "source": [
        "try:\n",
        "  os.mkdir(FOLDER)\n",
        "except FileExistsError:\n",
        "  pass"
      ]
    },
    {
      "cell_type": "code",
      "execution_count": 355,
      "metadata": {
        "id": "JuzS0SFEgXi0"
      },
      "outputs": [],
      "source": [
        "dir_files = os.listdir()"
      ]
    },
    {
      "cell_type": "code",
      "execution_count": 356,
      "metadata": {
        "id": "EXSDxciY_axb"
      },
      "outputs": [],
      "source": [
        "music_info = {}"
      ]
    },
    {
      "cell_type": "markdown",
      "metadata": {
        "id": "oexnVIJy_tCK"
      },
      "source": [
        "###Get the valid tracks with notes"
      ]
    },
    {
      "cell_type": "code",
      "execution_count": 357,
      "metadata": {
        "id": "fUtLhRCh_XK8"
      },
      "outputs": [],
      "source": [
        "mid_files = []\n",
        "for file_name in dir_files:\n",
        "  if(file_name[-4:] != '.mid'):\n",
        "    continue\n",
        "  mid_files.append(file_name)\n",
        "  music_info[file_name] = {'tracks' : [], 'root' : None, 'scale' : None}\n",
        "  mid = MidiFile(file_name, clip=True)\n",
        "  for track in mid.tracks:\n",
        "    if(not isPercussion(track)):\n",
        "      music_info[file_name]['tracks'].append(track)"
      ]
    },
    {
      "cell_type": "markdown",
      "metadata": {
        "id": "oImo3bpa_wfi"
      },
      "source": [
        "###Check the main scale of the song"
      ]
    },
    {
      "cell_type": "markdown",
      "metadata": {
        "id": "QesHHB9yB_9s"
      },
      "source": [
        "####Get the root"
      ]
    },
    {
      "cell_type": "code",
      "execution_count": 358,
      "metadata": {
        "id": "BCVlmVmhCELq"
      },
      "outputs": [],
      "source": [
        "for file_name in mid_files:\n",
        "  best_root =  {}\n",
        "  for i,v in enumerate(music_info[file_name]['tracks']):\n",
        "    notes = track_notes_statistics(v)\n",
        "    if(not notes):\n",
        "      continue\n",
        "    most_played_note = notes[0][0]\n",
        "    \n",
        "    if(not most_played_note in best_root):\n",
        "      best_root[most_played_note] = notes[0][1]\n",
        "    else:\n",
        "      best_root[most_played_note] += notes[0][1]\n",
        "  \n",
        "  music_info[file_name]['root'] = sorted([(key, best_root[key]/len(music_info[file_name]['tracks'])) for key in best_root], key=lambda a : -a[1])[0][0]"
      ]
    },
    {
      "cell_type": "markdown",
      "metadata": {
        "id": "E_xQ2xEkCBwa"
      },
      "source": [
        "####Get the scale"
      ]
    },
    {
      "cell_type": "code",
      "execution_count": 359,
      "metadata": {
        "id": "wyAgbzcZ_N1z",
        "colab": {
          "base_uri": "https://localhost:8080/"
        },
        "outputId": "b9389dc3-87b5-4d7b-92a3-ad875fefa193"
      },
      "outputs": [
        {
          "output_type": "stream",
          "name": "stdout",
          "text": [
            "Scales of Song: Van_Halen_-_Jump.mid\n",
            "\t\t> C Mixolydian (17.48%)\n",
            "\t\t> C Ionian (15.14%)\n",
            "\t\t> C Dorian (8.58%)\n"
          ]
        }
      ],
      "source": [
        "for file_name in mid_files:\n",
        "  song_scale = {}\n",
        "  for i,v in enumerate(music_info[file_name]['tracks']):\n",
        "    notes = track_notes_statistics(v)\n",
        "    if(not notes):\n",
        "      continue\n",
        "\n",
        "    ret = scales_fit(notes, 'Diatonic', music_info[file_name]['root'])\n",
        "    \n",
        "    for scale in ret[:3]:\n",
        "      if(not scale[0] in song_scale):\n",
        "        song_scale[scale[0]] = scale[1]\n",
        "      else:\n",
        "        song_scale[scale[0]] += scale[1]\n",
        "  \n",
        "  song_scale = sorted([(key, song_scale[key]/len(music_info[file_name]['tracks'])) for key in song_scale], key=lambda a : -a[1])\n",
        "  \n",
        "  music_info[file_name]['scale'] = song_scale[0][0]\n",
        "  print(\"Scales of Song: %s\"%(file_name))\n",
        "  for scale in song_scale[:3]:\n",
        "    print(\"\\t\\t> %s %s (%.2f%%)\"%(chromatic.notes()[music_info[file_name]['root']],scale[0], 100*scale[1]))"
      ]
    },
    {
      "cell_type": "markdown",
      "metadata": {
        "id": "CY3FbDDE_qsp"
      },
      "source": [
        "###Process the harmonies"
      ]
    },
    {
      "cell_type": "code",
      "execution_count": 360,
      "metadata": {
        "id": "Sg583ftmOo7F"
      },
      "outputs": [],
      "source": [
        "file_list_download = []\n",
        "for name in Harmonies.operations:\n",
        "  for file_name in mid_files:\n",
        "    if(file_name[-4:] != '.mid'):\n",
        "      continue\n",
        "\n",
        "    mid = MidiFile(file_name, clip=True)\n",
        "\n",
        "    for track in mid.tracks:\n",
        "      if(isPercussion(track)):\n",
        "        continue\n",
        "      for value in track:\n",
        "        try:\n",
        "          value.note = Harmonies.operations[name](value.note, music_info[file_name],name)\n",
        "        except AttributeError:\n",
        "          #Ignore the objects that isn't note messages in the midi\n",
        "          pass\n",
        "    \n",
        "    file_list_download.append(FOLDER+(name%file_name))\n",
        "    mid.save(file_list_download[-1])"
      ]
    },
    {
      "cell_type": "markdown",
      "metadata": {
        "id": "Tec5EPfDEu7w"
      },
      "source": [
        "#3) Download"
      ]
    },
    {
      "cell_type": "code",
      "execution_count": 361,
      "metadata": {
        "id": "1O1j0bcrY7Gq",
        "colab": {
          "base_uri": "https://localhost:8080/",
          "height": 201
        },
        "outputId": "886166a7-5dfd-4c14-89d6-9f824cd1fbde"
      },
      "outputs": [
        {
          "output_type": "stream",
          "name": "stdout",
          "text": [
            "  adding: generated/ (stored 0%)\n",
            "  adding: generated/Ionian_Van_Halen_-_Jump.mid (deflated 58%)\n",
            "  adding: generated/fifith_Van_Halen_-_Jump.mid (deflated 58%)\n",
            "  adding: generated/Lydian_Van_Halen_-_Jump.mid (deflated 58%)\n",
            "  adding: generated/negative_Van_Halen_-_Jump.mid (deflated 58%)\n",
            "  adding: generated/Aeolian_Van_Halen_-_Jump.mid (deflated 58%)\n",
            "  adding: generated/Locrian_Van_Halen_-_Jump.mid (deflated 58%)\n",
            "  adding: generated/Mixolydian_Van_Halen_-_Jump.mid (deflated 58%)\n",
            "  adding: generated/Phrygian_Van_Halen_-_Jump.mid (deflated 58%)\n",
            "  adding: generated/Dorian_Van_Halen_-_Jump.mid (deflated 58%)\n"
          ]
        },
        {
          "output_type": "display_data",
          "data": {
            "application/javascript": [
              "\n",
              "    async function download(id, filename, size) {\n",
              "      if (!google.colab.kernel.accessAllowed) {\n",
              "        return;\n",
              "      }\n",
              "      const div = document.createElement('div');\n",
              "      const label = document.createElement('label');\n",
              "      label.textContent = `Downloading \"${filename}\": `;\n",
              "      div.appendChild(label);\n",
              "      const progress = document.createElement('progress');\n",
              "      progress.max = size;\n",
              "      div.appendChild(progress);\n",
              "      document.body.appendChild(div);\n",
              "\n",
              "      const buffers = [];\n",
              "      let downloaded = 0;\n",
              "\n",
              "      const channel = await google.colab.kernel.comms.open(id);\n",
              "      // Send a message to notify the kernel that we're ready.\n",
              "      channel.send({})\n",
              "\n",
              "      for await (const message of channel.messages) {\n",
              "        // Send a message to notify the kernel that we're ready.\n",
              "        channel.send({})\n",
              "        if (message.buffers) {\n",
              "          for (const buffer of message.buffers) {\n",
              "            buffers.push(buffer);\n",
              "            downloaded += buffer.byteLength;\n",
              "            progress.value = downloaded;\n",
              "          }\n",
              "        }\n",
              "      }\n",
              "      const blob = new Blob(buffers, {type: 'application/binary'});\n",
              "      const a = document.createElement('a');\n",
              "      a.href = window.URL.createObjectURL(blob);\n",
              "      a.download = filename;\n",
              "      div.appendChild(a);\n",
              "      a.click();\n",
              "      div.remove();\n",
              "    }\n",
              "  "
            ],
            "text/plain": [
              "<IPython.core.display.Javascript object>"
            ]
          },
          "metadata": {}
        },
        {
          "output_type": "display_data",
          "data": {
            "application/javascript": [
              "download(\"download_65b6390a-4a91-408f-bf25-2e51f14e1e8f\", \"shifted_harmonies.zip\", 200353)"
            ],
            "text/plain": [
              "<IPython.core.display.Javascript object>"
            ]
          },
          "metadata": {}
        }
      ],
      "source": [
        "!zip -rm $ZIP_NAME $FOLDER\n",
        "files.download(ZIP_NAME)"
      ]
    }
  ],
  "metadata": {
    "colab": {
      "collapsed_sections": [],
      "name": "Harmony Shifter.ipynb",
      "provenance": [],
      "authorship_tag": "ABX9TyPZpRX877uMQTBvp0qfAlrX",
      "include_colab_link": true
    },
    "kernelspec": {
      "display_name": "Python 3",
      "name": "python3"
    },
    "language_info": {
      "name": "python"
    }
  },
  "nbformat": 4,
  "nbformat_minor": 0
}