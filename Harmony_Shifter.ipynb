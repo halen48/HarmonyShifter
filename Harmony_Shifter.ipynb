{
  "nbformat": 4,
  "nbformat_minor": 0,
  "metadata": {
    "colab": {
      "name": "Harmony Shifter.ipynb",
      "provenance": [],
      "collapsed_sections": [],
      "authorship_tag": "ABX9TyNrPKmFI9hG7GDmAf93RfCi",
      "include_colab_link": true
    },
    "kernelspec": {
      "name": "python3",
      "display_name": "Python 3"
    },
    "language_info": {
      "name": "python"
    }
  },
  "cells": [
    {
      "cell_type": "markdown",
      "metadata": {
        "id": "view-in-github",
        "colab_type": "text"
      },
      "source": [
        "<a href=\"https://colab.research.google.com/github/halen48/HarmonyShifter/blob/main/Harmony_Shifter.ipynb\" target=\"_parent\"><img src=\"https://colab.research.google.com/assets/colab-badge.svg\" alt=\"Open In Colab\"/></a>"
      ]
    },
    {
      "cell_type": "markdown",
      "source": [
        "<h1>Harmony Shifter in Python</h1>\n",
        "Author: <a href=\"https://github.com/halen48\">Guilherme Novaes</a>\n",
        "\n",
        "---\n",
        "Refereces: \n",
        "*   <a href=\"https://hellomusictheory.com/learn/negative-harmony/\">What Is Negative Harmony?</a>\n",
        "*   <a href=\"https://en.wikipedia.org/wiki/Riemannian_theory\">Riemannian theory</a>\n"
      ],
      "metadata": {
        "id": "2SKDI0m99nWB"
      }
    },
    {
      "cell_type": "code",
      "source": [
        "from google.colab import files\n",
        "!pip install mido\n",
        "from mido import MidiFile\n",
        "import os\n",
        "from IPython.display import Audio"
      ],
      "metadata": {
        "colab": {
          "base_uri": "https://localhost:8080/"
        },
        "id": "kR8EsCZnGMK0",
        "outputId": "24366817-82d1-47d4-e013-c4d170c154ab"
      },
      "execution_count": 547,
      "outputs": [
        {
          "output_type": "stream",
          "name": "stdout",
          "text": [
            "Requirement already satisfied: mido in /usr/local/lib/python3.7/dist-packages (1.2.10)\n"
          ]
        }
      ]
    },
    {
      "cell_type": "code",
      "source": [
        "ZIP_NAME = \"shifted_harmonies.zip\" #@param"
      ],
      "metadata": {
        "cellView": "form",
        "id": "7OJy8g-4aygE"
      },
      "execution_count": 548,
      "outputs": []
    },
    {
      "cell_type": "markdown",
      "source": [
        "#1) Implementation"
      ],
      "metadata": {
        "id": "B6S2not5_gn_"
      }
    },
    {
      "cell_type": "markdown",
      "source": [
        "##Constants/Formulas"
      ],
      "metadata": {
        "id": "0wnkpH2sTHGW"
      }
    },
    {
      "cell_type": "code",
      "source": [
        "SHARP = '♯'\n",
        "FLAT = '♭'"
      ],
      "metadata": {
        "id": "DzQMoYvA4rqQ"
      },
      "execution_count": 549,
      "outputs": []
    },
    {
      "cell_type": "markdown",
      "source": [
        "<a href=\"https://www.inspiredacoustics.com/en/MIDI_note_numbers_and_center_frequencies\">MIDI Notes</a>"
      ],
      "metadata": {
        "id": "-Ph0tuNifopp"
      }
    },
    {
      "cell_type": "code",
      "source": [
        "def mid2note(v):\n",
        "  return ((v%12) ,v//12 - 1)"
      ],
      "metadata": {
        "id": "_Mws9RnlVMql"
      },
      "execution_count": 550,
      "outputs": []
    },
    {
      "cell_type": "markdown",
      "source": [
        "Channel 10 is always percurssion.<br>\n",
        "In other words, the 10th channel is the percussion.<br>\n",
        "Since first channel by mido is the 0 channel, the 10th channel is the number 9"
      ],
      "metadata": {
        "id": "Sh9_TDC__uwP"
      }
    },
    {
      "cell_type": "code",
      "source": [
        "PERCUSSION_CHANNEL = 10"
      ],
      "metadata": {
        "id": "k_Swjha7AKgH"
      },
      "execution_count": 551,
      "outputs": []
    },
    {
      "cell_type": "code",
      "source": [
        "def isPercussion(tracks):\n",
        "  for m in tracks:\n",
        "    dict_ = m.dict()\n",
        "    if('channel' in dict_.keys()):\n",
        "      return (dict_['channel'] == PERCUSSION_CHANNEL - 1)\n",
        "  \n",
        "  return False"
      ],
      "metadata": {
        "id": "cc9vP3zLP6uA"
      },
      "execution_count": 552,
      "outputs": []
    },
    {
      "cell_type": "markdown",
      "source": [
        "##Chromatic Scale"
      ],
      "metadata": {
        "id": "jO_lhlNk_kvA"
      }
    },
    {
      "cell_type": "code",
      "execution_count": 553,
      "metadata": {
        "id": "3KVOTwkzzPfO"
      },
      "outputs": [],
      "source": [
        "class ChromaticScale():\n",
        "  def __init__(self, default_accidental):\n",
        "    \n",
        "    self.__ACCIDENTAL = ['sharp', 'flat']\n",
        "    self.__default_accidental = default_accidental\n",
        "    self.__default_accidental_index = self.__ACCIDENTAL.index(default_accidental)\n",
        "    \n",
        "    self._notes = {'sharp' : [], 'flat' : []}\n",
        "    for i in range(ord('A'),ord('G')+1):\n",
        "      self._notes['sharp'].append(chr(i))\n",
        "      if(i != ord('B') and i!= ord('E')):\n",
        "        self._notes['sharp'].append(chr(i)+SHARP)\n",
        "    \n",
        "    self._MAX_NOTES = len(self._notes['sharp'])\n",
        "\n",
        "    self._notes['flat'] = [chr( ord('A') + (ord(v[0])- ord('A')+1)%7)+FLAT if len(v) > 1 else v for v in self._notes['sharp']]\n",
        "    \n",
        "    self.rotate('C')\n",
        "\n",
        "  def __circle5ths(self):\n",
        "    self._circle = {'sharp' : [self._notes['sharp'][0]], 'flat' : [self._notes['flat'][0]], 'discrete' : [0], 'map' : {} }\n",
        "    index = 7\n",
        "    while index != 0:\n",
        "      self._circle['sharp'].append(self._notes['sharp'][index])\n",
        "      self._circle['flat'].append(self._notes['flat'][index])\n",
        "      self._circle['discrete'].append(index)\n",
        "      index = (index+7)%self._MAX_NOTES\n",
        "    \n",
        "    middle_slice = j = self._MAX_NOTES//2\n",
        "    for i in range(1,middle_slice+1):\n",
        "      self._circle['map'][self._circle['discrete'][j-middle_slice]] = self._circle['discrete'][i]\n",
        "      self._circle['map'][self._circle['discrete'][i]] = self._circle['discrete'][j-middle_slice]\n",
        "      j -= 1\n",
        "\n",
        "  def rotate(self,start_note):\n",
        "    if(start_note in self._notes['sharp']):\n",
        "      notes = self._notes['sharp']\n",
        "    else:\n",
        "      notes = self._notes['flat']\n",
        "    while notes[0] != start_note:\n",
        "      self._notes['sharp'].append(self._notes['sharp'].pop(0))\n",
        "      self._notes['flat'].append(self._notes['flat'].pop(0))\n",
        "    \n",
        "    self.__circle5ths()\n",
        "\n",
        "  def print_circle(self, pettry = False):\n",
        "    major = self._circle[self.__default_accidental].copy()\n",
        "    self.rotate('A')\n",
        "    minor = self._circle[self.__default_accidental].copy()\n",
        "    self.rotate('C')\n",
        "    ret = {'major':major, 'minor' : minor}\n",
        "    if(pettry):\n",
        "      return '\\n'.join(['%s: %s'%(key,ret[key]) for key in ret])\n",
        "    return ret\n",
        "  \n",
        "  def notes(self):\n",
        "    return self._notes[self.__default_accidental]    \n",
        "  \n",
        "  def circle(self,key):\n",
        "    return self._circle[key]\n",
        "\n",
        "  def negativeMap(self):\n",
        "    return '\\n'.join([\"%2s → %2s\"%(self.notes()[key],self.notes()[self._circle['map'][key]]) for key in self._circle['discrete']])\n",
        "    "
      ]
    },
    {
      "cell_type": "markdown",
      "source": [
        "##Implement your shift-harmonies formulas here"
      ],
      "metadata": {
        "id": "h3Hne78THTnR"
      }
    },
    {
      "cell_type": "markdown",
      "source": [
        "###All methods with the sufix below will be automatically included to perform the operation"
      ],
      "metadata": {
        "id": "BjQHUbWhIGrq"
      }
    },
    {
      "cell_type": "code",
      "source": [
        "SUFIX = 'Harmony'"
      ],
      "metadata": {
        "id": "m9S-HdL_IFPA"
      },
      "execution_count": 554,
      "outputs": []
    },
    {
      "cell_type": "code",
      "source": [
        "class Harmonies(): \n",
        "  operations = {}\n",
        "\n",
        "  def fifithHarmony(scale, note):\n",
        "    v = mid2note(note)\n",
        "    return scale.circle('discrete')[v[0]-1] + (12*(1+v[1]))\n",
        "\n",
        "  def negativeHarmony(scale, note):\n",
        "    v = mid2note(note)\n",
        "    return scale.circle('map')[v[0]] + (12*(1+v[1]))"
      ],
      "metadata": {
        "id": "z8qRx-WjFtAx"
      },
      "execution_count": 555,
      "outputs": []
    },
    {
      "cell_type": "code",
      "source": [
        "for key in Harmonies.__dict__:\n",
        "  if(SUFIX in key):\n",
        "    Harmonies.operations[key.replace(SUFIX,'_%s')] = Harmonies.__dict__[key]"
      ],
      "metadata": {
        "id": "QUGCuRefVx-z"
      },
      "execution_count": 556,
      "outputs": []
    },
    {
      "cell_type": "markdown",
      "source": [
        "##Circle of fifiths\n"
      ],
      "metadata": {
        "id": "P5f2kL-m2zO6"
      }
    },
    {
      "cell_type": "code",
      "source": [
        "#@title <img src=\"https://lh5.googleusercontent.com/jq0aEjROUrEuCw6aJS84iCzEd5jm707BRXFckMJ22VXm30HOHcP6vyKMEqPH4dVADi7FvOUu7a23C9PbH4aafuSbrdYRwlVCEAhscIGwbzxtSNFU5TDSairq_NlOvcH_H3bQSbXF\" width=\"300\"/>\n",
        "scale = ChromaticScale('sharp')\n",
        "print(scale.notes())\n",
        "print(scale.print_circle(True))\n",
        "print(scale.negativeMap())"
      ],
      "metadata": {
        "colab": {
          "base_uri": "https://localhost:8080/"
        },
        "id": "tQnligLd0fHU",
        "outputId": "acd32049-a07f-4e0c-f25c-cfba08ed4c79",
        "cellView": "form"
      },
      "execution_count": 557,
      "outputs": [
        {
          "output_type": "stream",
          "name": "stdout",
          "text": [
            "['C', 'C♯', 'D', 'D♯', 'E', 'F', 'F♯', 'G', 'G♯', 'A', 'A♯', 'B']\n",
            "major: ['C', 'G', 'D', 'A', 'E', 'B', 'F♯', 'C♯', 'G♯', 'D♯', 'A♯', 'F']\n",
            "minor: ['A', 'E', 'B', 'F♯', 'C♯', 'G♯', 'D♯', 'A♯', 'F', 'C', 'G', 'D']\n",
            " C →  G\n",
            " G →  C\n",
            " D →  F\n",
            " A → A♯\n",
            " E → D♯\n",
            " B → G♯\n",
            "F♯ → C♯\n",
            "C♯ → F♯\n",
            "G♯ →  B\n",
            "D♯ →  E\n",
            "A♯ →  A\n",
            " F →  D\n"
          ]
        }
      ]
    },
    {
      "cell_type": "markdown",
      "source": [
        "#2) Upload a MIDI"
      ],
      "metadata": {
        "id": "cD3KUz_XI17_"
      }
    },
    {
      "cell_type": "code",
      "source": [
        "#@title Optional (You can upload multiple)\n",
        "uploaded = files.upload() "
      ],
      "metadata": {
        "colab": {
          "resources": {
            "http://localhost:8080/nbextensions/google.colab/files.js": {
              "data": "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",
              "ok": true,
              "headers": [
                [
                  "content-type",
                  "application/javascript"
                ]
              ],
              "status": 200,
              "status_text": "OK"
            }
          },
          "base_uri": "https://localhost:8080/",
          "height": 39
        },
        "id": "sP3dd-T6I1hT",
        "outputId": "d796e06c-59ff-4443-8961-dc8e7478f3b9",
        "cellView": "form"
      },
      "execution_count": 558,
      "outputs": [
        {
          "output_type": "display_data",
          "data": {
            "text/html": [
              "\n",
              "     <input type=\"file\" id=\"files-d31da740-6685-40be-9c37-25c24a70e20d\" name=\"files[]\" multiple disabled\n",
              "        style=\"border:none\" />\n",
              "     <output id=\"result-d31da740-6685-40be-9c37-25c24a70e20d\">\n",
              "      Upload widget is only available when the cell has been executed in the\n",
              "      current browser session. Please rerun this cell to enable.\n",
              "      </output>\n",
              "      <script src=\"/nbextensions/google.colab/files.js\"></script> "
            ],
            "text/plain": [
              "<IPython.core.display.HTML object>"
            ]
          },
          "metadata": {}
        }
      ]
    },
    {
      "cell_type": "markdown",
      "source": [
        "##Do the mathmagics"
      ],
      "metadata": {
        "id": "8CC6-VP6ExvX"
      }
    },
    {
      "cell_type": "code",
      "source": [
        "FOLDER = \"generated/\""
      ],
      "metadata": {
        "id": "Pabz0ciSYwP0"
      },
      "execution_count": 559,
      "outputs": []
    },
    {
      "cell_type": "code",
      "source": [
        "try:\n",
        "  os.mkdir(FOLDER)\n",
        "except FileExistsError:\n",
        "  pass"
      ],
      "metadata": {
        "id": "s1qQqnGGZSm0"
      },
      "execution_count": 560,
      "outputs": []
    },
    {
      "cell_type": "code",
      "source": [
        "dir_files = os.listdir()\n",
        "file_list_download = []\n",
        "for name in Harmonies.operations:\n",
        "  for file_name in dir_files:\n",
        "    if(file_name[-4:] != '.mid'):\n",
        "      continue\n",
        "    tracks2conv = []\n",
        "    mid = MidiFile(file_name, clip=True)\n",
        "    for track in mid.tracks:\n",
        "      if(not isPercussion(track)):\n",
        "        tracks2conv.append(track)\n",
        "    \n",
        "    for v in tracks2conv:\n",
        "      for p in v:\n",
        "        try:\n",
        "          p.note = Harmonies.operations[name](scale,p.note)\n",
        "        except AttributeError:\n",
        "          #Ignore the objects that isn't note messages in the midi\n",
        "          pass\n",
        "    \n",
        "    file_list_download.append(FOLDER+(name%file_name))\n",
        "    mid.save(file_list_download[-1])"
      ],
      "metadata": {
        "id": "Sg583ftmOo7F"
      },
      "execution_count": 561,
      "outputs": []
    },
    {
      "cell_type": "markdown",
      "source": [
        "#3) Download"
      ],
      "metadata": {
        "id": "Tec5EPfDEu7w"
      }
    },
    {
      "cell_type": "code",
      "source": [
        "!zip -rm $ZIP_NAME $FOLDER\n",
        "files.download(ZIP_NAME)"
      ],
      "metadata": {
        "colab": {
          "base_uri": "https://localhost:8080/",
          "height": 146
        },
        "id": "1O1j0bcrY7Gq",
        "outputId": "905911af-484d-4189-d031-47b5d28c8ac1"
      },
      "execution_count": 562,
      "outputs": [
        {
          "output_type": "stream",
          "name": "stdout",
          "text": [
            "updating: generated/ (stored 0%)\n",
            "updating: generated/fifith_you_will_know_our_names-those_who_bear_their_name.mid (deflated 87%)\n",
            "updating: generated/fifith_MEGADETH_-_Tornado_Of_Souls.mid (deflated 92%)\n",
            "updating: generated/negative_you_will_know_our_names-those_who_bear_their_name.mid (deflated 87%)\n",
            "updating: generated/negative_MEGADETH_-_Tornado_Of_Souls.mid (deflated 91%)\n",
            "  adding: generated/negative_A_center_MEGADETH_-_Tornado_Of_Souls.mid (deflated 91%)\n",
            "  adding: generated/negative_A_center_you_will_know_our_names-those_who_bear_their_name.mid (deflated 87%)\n"
          ]
        },
        {
          "output_type": "display_data",
          "data": {
            "application/javascript": [
              "\n",
              "    async function download(id, filename, size) {\n",
              "      if (!google.colab.kernel.accessAllowed) {\n",
              "        return;\n",
              "      }\n",
              "      const div = document.createElement('div');\n",
              "      const label = document.createElement('label');\n",
              "      label.textContent = `Downloading \"${filename}\": `;\n",
              "      div.appendChild(label);\n",
              "      const progress = document.createElement('progress');\n",
              "      progress.max = size;\n",
              "      div.appendChild(progress);\n",
              "      document.body.appendChild(div);\n",
              "\n",
              "      const buffers = [];\n",
              "      let downloaded = 0;\n",
              "\n",
              "      const channel = await google.colab.kernel.comms.open(id);\n",
              "      // Send a message to notify the kernel that we're ready.\n",
              "      channel.send({})\n",
              "\n",
              "      for await (const message of channel.messages) {\n",
              "        // Send a message to notify the kernel that we're ready.\n",
              "        channel.send({})\n",
              "        if (message.buffers) {\n",
              "          for (const buffer of message.buffers) {\n",
              "            buffers.push(buffer);\n",
              "            downloaded += buffer.byteLength;\n",
              "            progress.value = downloaded;\n",
              "          }\n",
              "        }\n",
              "      }\n",
              "      const blob = new Blob(buffers, {type: 'application/binary'});\n",
              "      const a = document.createElement('a');\n",
              "      a.href = window.URL.createObjectURL(blob);\n",
              "      a.download = filename;\n",
              "      div.appendChild(a);\n",
              "      a.click();\n",
              "      div.remove();\n",
              "    }\n",
              "  "
            ],
            "text/plain": [
              "<IPython.core.display.Javascript object>"
            ]
          },
          "metadata": {}
        },
        {
          "output_type": "display_data",
          "data": {
            "application/javascript": [
              "download(\"download_07f240a5-eb2d-44c2-8765-99b71b534073\", \"shifted_harmonies.zip\", 36040)"
            ],
            "text/plain": [
              "<IPython.core.display.Javascript object>"
            ]
          },
          "metadata": {}
        }
      ]
    }
  ]
}